{
 "cells": [
  {
   "cell_type": "markdown",
   "metadata": {},
   "source": [
    "#### Exercise 1 - Class Inheritance"
   ]
  },
  {
   "cell_type": "markdown",
   "metadata": {},
   "source": [
    "Create an Employee class that sets an employee's first name, last name, job title, salary, and email. The Employee class should have a class attribute for the raise amount set to 5% (1.05). Create a method that will apply the raise to an employee's salary."
   ]
  },
  {
   "cell_type": "code",
   "execution_count": 138,
   "metadata": {},
   "outputs": [
    {
     "name": "stdout",
     "output_type": "stream",
     "text": [
      "{'first': 'Bradley', 'last': 'Johnson', 'job_title': 'Accountant', 'salary': 88200, 'email': 'Bradley.Johnson@company.org'}\n"
     ]
    }
   ],
   "source": [
    "class Employee:\n",
    "    raise_amount = 1.05\n",
    "    \n",
    "    def __init__(self, first, last, job_title, salary):\n",
    "        self.first = first\n",
    "        self.last = last\n",
    "        self.job_title = job_title\n",
    "        self.salary = salary\n",
    "        self.email = first + \".\" + last + \"@company.org\"\n",
    "#        self.phone_number = '(410) 449-1418'\n",
    "\n",
    "    def send_email(self):\n",
    "        return f\"Dear customer, Thank you for your interest in our product. Please let me know if you have any questions. My email is {self.email.lower()} or my phone number is {self.phone_number}. Thanks, {self.first} {self.last}\"\n",
    "        \n",
    "        \n",
    "    def write_code(self):\n",
    "        return f\"{self.first} {self.last} is writing code.\"\n",
    "    \n",
    "    \n",
    "\n",
    "print(emp_1.__dict__)"
   ]
  },
  {
   "cell_type": "code",
   "execution_count": 139,
   "metadata": {},
   "outputs": [
    {
     "data": {
      "text/plain": [
       "\"Congratulations, Bradley Johnson. You've received a raise of 1.05, making your salary $92610! Keep up the good work!\""
      ]
     },
     "execution_count": 139,
     "metadata": {},
     "output_type": "execute_result"
    }
   ],
   "source": [
    "    def apply_raise(self):\n",
    "        self.salary = int(self.salary * self.raise_amount)\n",
    "        return f\"Congratulations, {self.first.title()} {self.last.title()}. You've received a raise of {self.raise_amount}, making your salary ${self.salary}! Keep up the good work!\"\n",
    "    \n",
    "apply_raise(emp_1)"
   ]
  },
  {
   "cell_type": "markdown",
   "metadata": {},
   "source": [
    "Create two more classes that inherit from the Employee class. One for Sales and one for Development. Both of these classes will have the same attributes as the Employee.<br>\n",
    "- For the Sales employees, add a phone number attribute on instantiation using the super method. \n",
    "- Create a method on the Sales class that will Send a Follow Up Email. It should take in a customer name and \"send\" aka print a formatted email \"Dear *customer*, Thank you for your interest in our product. Please let me know if you have any questions. My email is *email* or my phone number is *phone number*. Thanks, *full name*\"\n",
    "- Create a method on the Development class called code that will print out \"*full name* is writing code\"."
   ]
  },
  {
   "cell_type": "code",
   "execution_count": 141,
   "metadata": {},
   "outputs": [
    {
     "ename": "AttributeError",
     "evalue": "'Employee' object has no attribute 'send_email'",
     "output_type": "error",
     "traceback": [
      "\u001b[0;31m---------------------------------------------------------------------------\u001b[0m",
      "\u001b[0;31mAttributeError\u001b[0m                            Traceback (most recent call last)",
      "Input \u001b[0;32mIn [141]\u001b[0m, in \u001b[0;36m<cell line: 6>\u001b[0;34m()\u001b[0m\n\u001b[1;32m      2\u001b[0m     \u001b[38;5;28;01mdef\u001b[39;00m \u001b[38;5;21m__init__\u001b[39m(\u001b[38;5;28mself\u001b[39m, first, last, job_title, salary, phone_number):\n\u001b[1;32m      3\u001b[0m         \u001b[38;5;28msuper\u001b[39m()\u001b[38;5;241m.\u001b[39m\u001b[38;5;21m__init__\u001b[39m(\u001b[38;5;28mself\u001b[39m)\n\u001b[0;32m----> 6\u001b[0m \u001b[43memp_1\u001b[49m\u001b[38;5;241;43m.\u001b[39;49m\u001b[43msend_email\u001b[49m()\n",
      "\u001b[0;31mAttributeError\u001b[0m: 'Employee' object has no attribute 'send_email'"
     ]
    }
   ],
   "source": [
    "class Sales(Employee):\n",
    "    def __init__(self, first, last, job_title, salary, phone_number):\n",
    "        super().__init__(self)\n",
    "        \n",
    "\n",
    "emp_1.send_email()"
   ]
  },
  {
   "cell_type": "code",
   "execution_count": null,
   "metadata": {},
   "outputs": [],
   "source": []
  },
  {
   "cell_type": "code",
   "execution_count": 142,
   "metadata": {},
   "outputs": [
    {
     "ename": "NameError",
     "evalue": "name 'emp_3' is not defined",
     "output_type": "error",
     "traceback": [
      "\u001b[0;31m---------------------------------------------------------------------------\u001b[0m",
      "\u001b[0;31mNameError\u001b[0m                                 Traceback (most recent call last)",
      "Input \u001b[0;32mIn [142]\u001b[0m, in \u001b[0;36m<cell line: 5>\u001b[0;34m()\u001b[0m\n\u001b[1;32m      2\u001b[0m     \u001b[38;5;28;01mdef\u001b[39;00m \u001b[38;5;21m__init__\u001b[39m(\u001b[38;5;28mself\u001b[39m, first, last, email):\n\u001b[1;32m      3\u001b[0m         \u001b[38;5;28msuper\u001b[39m()\u001b[38;5;241m.\u001b[39m\u001b[38;5;21m__init__\u001b[39m(\u001b[38;5;28mself\u001b[39m, phone_number, send_email)\n\u001b[0;32m----> 5\u001b[0m \u001b[43memp_3\u001b[49m\u001b[38;5;241m.\u001b[39mwrite_code()\n",
      "\u001b[0;31mNameError\u001b[0m: name 'emp_3' is not defined"
     ]
    }
   ],
   "source": [
    "class Development(Employee):\n",
    "    def __init__(self, first, last, email):\n",
    "        super().__init__(self, phone_number, send_email)\n",
    "        \n",
    "emp_3.write_code()"
   ]
  },
  {
   "cell_type": "markdown",
   "metadata": {},
   "source": [
    "- Create an instance of a Sales Employee with a salary of $50,000.\n",
    "- Send follow up emails to \"Mike O'Neil\" and \"Hannah Stern\"\n",
    "- Give the employee a raise and print the salary"
   ]
  },
  {
   "cell_type": "code",
   "execution_count": null,
   "metadata": {},
   "outputs": [],
   "source": [
    "class Sales Employee(Employee):\n",
    "    def __init__(self, first, last, email):\n",
    "        super().__init__(self, phone_number, send_email)\n",
    "        \n",
    "emp_3.write_code()\n",
    "        \n",
    "    def write_code(self):\n",
    "        return f\"{self.first} {self.last} is writing code.\"\n",
    "    \n"
   ]
  },
  {
   "cell_type": "markdown",
   "metadata": {},
   "source": [
    "- Create an instance of a Development Employee with a salary of $100,000\n",
    "- Write some code with this employee\n",
    "- Give the employee a raise and print the salary"
   ]
  },
  {
   "cell_type": "code",
   "execution_count": null,
   "metadata": {},
   "outputs": [],
   "source": []
  },
  {
   "cell_type": "code",
   "execution_count": 129,
   "metadata": {},
   "outputs": [
    {
     "ename": "TypeError",
     "evalue": "__init__() takes 1 positional argument but 5 were given",
     "output_type": "error",
     "traceback": [
      "\u001b[0;31m---------------------------------------------------------------------------\u001b[0m",
      "\u001b[0;31mTypeError\u001b[0m                                 Traceback (most recent call last)",
      "Input \u001b[0;32mIn [129]\u001b[0m, in \u001b[0;36m<cell line: 2>\u001b[0;34m()\u001b[0m\n\u001b[1;32m      1\u001b[0m emp_1 \u001b[38;5;241m=\u001b[39m Employee(\u001b[38;5;124m'\u001b[39m\u001b[38;5;124mBradley\u001b[39m\u001b[38;5;124m'\u001b[39m, \u001b[38;5;124m'\u001b[39m\u001b[38;5;124mJohnson\u001b[39m\u001b[38;5;124m'\u001b[39m, \u001b[38;5;124m'\u001b[39m\u001b[38;5;124mAccountant\u001b[39m\u001b[38;5;124m'\u001b[39m, \u001b[38;5;241m80000\u001b[39m)\n\u001b[0;32m----> 2\u001b[0m emp_2 \u001b[38;5;241m=\u001b[39m \u001b[43mSales\u001b[49m\u001b[43m(\u001b[49m\u001b[38;5;124;43m'\u001b[39;49m\u001b[38;5;124;43mAlex\u001b[39;49m\u001b[38;5;124;43m'\u001b[39;49m\u001b[43m,\u001b[49m\u001b[43m \u001b[49m\u001b[38;5;124;43m'\u001b[39;49m\u001b[38;5;124;43mIverson\u001b[39;49m\u001b[38;5;124;43m'\u001b[39;49m\u001b[43m,\u001b[49m\u001b[43m \u001b[49m\u001b[38;5;124;43m'\u001b[39;49m\u001b[38;5;124;43mSales Consultant\u001b[39;49m\u001b[38;5;124;43m'\u001b[39;49m\u001b[43m,\u001b[49m\u001b[43m \u001b[49m\u001b[38;5;241;43m50000\u001b[39;49m\u001b[43m)\u001b[49m\n\u001b[1;32m      3\u001b[0m emp_3 \u001b[38;5;241m=\u001b[39m Development(\u001b[38;5;124m'\u001b[39m\u001b[38;5;124mJonah\u001b[39m\u001b[38;5;124m'\u001b[39m, \u001b[38;5;124m'\u001b[39m\u001b[38;5;124mSmith\u001b[39m\u001b[38;5;124m'\u001b[39m, \u001b[38;5;124m'\u001b[39m\u001b[38;5;124mSoftware Developer\u001b[39m\u001b[38;5;124m'\u001b[39m, \u001b[38;5;241m100000\u001b[39m)\n",
      "\u001b[0;31mTypeError\u001b[0m: __init__() takes 1 positional argument but 5 were given"
     ]
    }
   ],
   "source": [
    "emp_1 = Employee('Bradley', 'Johnson', 'Accountant', 80000)\n",
    "emp_2 = Sales('Alex', 'Iverson', 'Sales Consultant', 50000)\n",
    "emp_3 = Development('Jonah', 'Smith', 'Software Developer', 100000)"
   ]
  },
  {
   "cell_type": "markdown",
   "metadata": {},
   "source": [
    "#### Exercise 2 - Importing Modules"
   ]
  },
  {
   "cell_type": "markdown",
   "metadata": {},
   "source": [
    "In VS Code, create a module titled `geometry` and add two functions in there. One that will calculate the area of a circle given a radius. The second will find the hypotenuse of a right angle given the two sides. Import the module or the functions from the module and use it to find the answers to the below questions"
   ]
  },
  {
   "cell_type": "markdown",
   "metadata": {},
   "source": [
    "What is the area of a circle with a radius of 7cm?"
   ]
  },
  {
   "cell_type": "code",
   "execution_count": 34,
   "metadata": {},
   "outputs": [
    {
     "name": "stdout",
     "output_type": "stream",
     "text": [
      "<module 'geometry_mod' from '/Users/usamaqazi/Documents/coding-temple-kekambas-102/week3/day2/day2_hw/geometry_mod.py'>\n"
     ]
    },
    {
     "data": {
      "text/plain": [
       "153.93804002589985"
      ]
     },
     "execution_count": 34,
     "metadata": {},
     "output_type": "execute_result"
    }
   ],
   "source": [
    "import geometry_mod\n",
    "print(geometry_mod)\n",
    "geometry_mod.circle_area(7)"
   ]
  },
  {
   "cell_type": "markdown",
   "metadata": {},
   "source": [
    "What is the hypotenuse of a right angle with sides of 3in and 4in?"
   ]
  },
  {
   "cell_type": "code",
   "execution_count": 36,
   "metadata": {},
   "outputs": [
    {
     "data": {
      "text/plain": [
       "5.0"
      ]
     },
     "execution_count": 36,
     "metadata": {},
     "output_type": "execute_result"
    }
   ],
   "source": [
    "geometry_mod.hypotenuse(3,4)"
   ]
  },
  {
   "cell_type": "code",
   "execution_count": null,
   "metadata": {},
   "outputs": [],
   "source": []
  }
 ],
 "metadata": {
  "kernelspec": {
   "display_name": "Python 3 (ipykernel)",
   "language": "python",
   "name": "python3"
  },
  "language_info": {
   "codemirror_mode": {
    "name": "ipython",
    "version": 3
   },
   "file_extension": ".py",
   "mimetype": "text/x-python",
   "name": "python",
   "nbconvert_exporter": "python",
   "pygments_lexer": "ipython3",
   "version": "3.9.12"
  }
 },
 "nbformat": 4,
 "nbformat_minor": 4
}
